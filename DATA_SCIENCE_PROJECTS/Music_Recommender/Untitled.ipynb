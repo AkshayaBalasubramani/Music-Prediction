{
 "cells": [
  {
   "cell_type": "code",
   "execution_count": 2,
   "id": "f5720172",
   "metadata": {},
   "outputs": [],
   "source": [
    "import joblib\n",
    "#to load the predictions\n",
    "model_new=joblib.load('music-recommender.joblib')"
   ]
  },
  {
   "cell_type": "code",
   "execution_count": 3,
   "id": "e7fd94a6",
   "metadata": {},
   "outputs": [
    {
     "name": "stderr",
     "output_type": "stream",
     "text": [
      "C:\\Users\\91821\\anaconda3\\Lib\\site-packages\\sklearn\\base.py:464: UserWarning: X does not have valid feature names, but DecisionTreeClassifier was fitted with feature names\n",
      "  warnings.warn(\n"
     ]
    }
   ],
   "source": [
    "predictions=model_new.predict([[21,0]])"
   ]
  },
  {
   "cell_type": "code",
   "execution_count": 4,
   "id": "9c3dade9",
   "metadata": {},
   "outputs": [
    {
     "data": {
      "text/plain": [
       "array(['Dance'], dtype=object)"
      ]
     },
     "execution_count": 4,
     "metadata": {},
     "output_type": "execute_result"
    }
   ],
   "source": [
    "predictions"
   ]
  },
  {
   "cell_type": "code",
   "execution_count": 6,
   "id": "beb0d806",
   "metadata": {},
   "outputs": [
    {
     "name": "stderr",
     "output_type": "stream",
     "text": [
      "C:\\Users\\91821\\anaconda3\\Lib\\site-packages\\sklearn\\base.py:464: UserWarning: X does not have valid feature names, but DecisionTreeClassifier was fitted with feature names\n",
      "  warnings.warn(\n"
     ]
    }
   ],
   "source": [
    "predictions=model_new.predict([[50,0]])"
   ]
  },
  {
   "cell_type": "code",
   "execution_count": 8,
   "id": "d856caaa",
   "metadata": {},
   "outputs": [
    {
     "data": {
      "text/plain": [
       "array(['Classical'], dtype=object)"
      ]
     },
     "execution_count": 8,
     "metadata": {},
     "output_type": "execute_result"
    }
   ],
   "source": [
    "predictions\n",
    "#open preview will help us tovisualise the decision tree"
   ]
  }
 ],
 "metadata": {
  "kernelspec": {
   "display_name": "Python 3 (ipykernel)",
   "language": "python",
   "name": "python3"
  },
  "language_info": {
   "codemirror_mode": {
    "name": "ipython",
    "version": 3
   },
   "file_extension": ".py",
   "mimetype": "text/x-python",
   "name": "python",
   "nbconvert_exporter": "python",
   "pygments_lexer": "ipython3",
   "version": "3.11.5"
  }
 },
 "nbformat": 4,
 "nbformat_minor": 5
}
